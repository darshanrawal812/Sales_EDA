{
 "cells": [
  {
   "cell_type": "markdown",
   "id": "815a8d79",
   "metadata": {},
   "source": [
    "# Diwali Sales Exploratory Data Analysis"
   ]
  },
  {
   "cell_type": "code",
   "execution_count": 1,
   "id": "28e4e620",
   "metadata": {},
   "outputs": [],
   "source": [
    "import pandas as pd\n",
    "import numpy as np\n",
    "import matplotlib.pyplot as plt\n",
    "import seaborn as sns"
   ]
  },
  {
   "cell_type": "code",
   "execution_count": 2,
   "id": "3b415600",
   "metadata": {},
   "outputs": [
    {
     "data": {
      "text/html": [
       "<div>\n",
       "<style scoped>\n",
       "    .dataframe tbody tr th:only-of-type {\n",
       "        vertical-align: middle;\n",
       "    }\n",
       "\n",
       "    .dataframe tbody tr th {\n",
       "        vertical-align: top;\n",
       "    }\n",
       "\n",
       "    .dataframe thead th {\n",
       "        text-align: right;\n",
       "    }\n",
       "</style>\n",
       "<table border=\"1\" class=\"dataframe\">\n",
       "  <thead>\n",
       "    <tr style=\"text-align: right;\">\n",
       "      <th></th>\n",
       "      <th>User_ID</th>\n",
       "      <th>Cust_name</th>\n",
       "      <th>Product_ID</th>\n",
       "      <th>Gender</th>\n",
       "      <th>Age Group</th>\n",
       "      <th>Age</th>\n",
       "      <th>Marital_Status</th>\n",
       "      <th>State</th>\n",
       "      <th>Zone</th>\n",
       "      <th>Occupation</th>\n",
       "      <th>Product_Category</th>\n",
       "      <th>Orders</th>\n",
       "      <th>Amount</th>\n",
       "      <th>Status</th>\n",
       "      <th>unnamed1</th>\n",
       "    </tr>\n",
       "  </thead>\n",
       "  <tbody>\n",
       "    <tr>\n",
       "      <th>3332</th>\n",
       "      <td>1004470</td>\n",
       "      <td>Sylvia</td>\n",
       "      <td>P00245642</td>\n",
       "      <td>F</td>\n",
       "      <td>36-45</td>\n",
       "      <td>38</td>\n",
       "      <td>0</td>\n",
       "      <td>Kerala</td>\n",
       "      <td>Southern</td>\n",
       "      <td>Lawyer</td>\n",
       "      <td>Food</td>\n",
       "      <td>3</td>\n",
       "      <td>11881.0</td>\n",
       "      <td>NaN</td>\n",
       "      <td>NaN</td>\n",
       "    </tr>\n",
       "    <tr>\n",
       "      <th>8707</th>\n",
       "      <td>1003282</td>\n",
       "      <td>Ordway</td>\n",
       "      <td>P00090942</td>\n",
       "      <td>F</td>\n",
       "      <td>46-50</td>\n",
       "      <td>49</td>\n",
       "      <td>1</td>\n",
       "      <td>Uttar Pradesh</td>\n",
       "      <td>Central</td>\n",
       "      <td>Banking</td>\n",
       "      <td>Clothing &amp; Apparel</td>\n",
       "      <td>1</td>\n",
       "      <td>5315.0</td>\n",
       "      <td>NaN</td>\n",
       "      <td>NaN</td>\n",
       "    </tr>\n",
       "    <tr>\n",
       "      <th>1696</th>\n",
       "      <td>1003509</td>\n",
       "      <td>Garverick</td>\n",
       "      <td>P00017042</td>\n",
       "      <td>F</td>\n",
       "      <td>18-25</td>\n",
       "      <td>23</td>\n",
       "      <td>0</td>\n",
       "      <td>Delhi</td>\n",
       "      <td>Central</td>\n",
       "      <td>Textile</td>\n",
       "      <td>Food</td>\n",
       "      <td>3</td>\n",
       "      <td>15860.0</td>\n",
       "      <td>NaN</td>\n",
       "      <td>NaN</td>\n",
       "    </tr>\n",
       "    <tr>\n",
       "      <th>9294</th>\n",
       "      <td>1000780</td>\n",
       "      <td>Ishit</td>\n",
       "      <td>P00208742</td>\n",
       "      <td>F</td>\n",
       "      <td>26-35</td>\n",
       "      <td>29</td>\n",
       "      <td>0</td>\n",
       "      <td>Uttar Pradesh</td>\n",
       "      <td>Central</td>\n",
       "      <td>Healthcare</td>\n",
       "      <td>Food</td>\n",
       "      <td>2</td>\n",
       "      <td>4278.0</td>\n",
       "      <td>NaN</td>\n",
       "      <td>NaN</td>\n",
       "    </tr>\n",
       "    <tr>\n",
       "      <th>4919</th>\n",
       "      <td>1000092</td>\n",
       "      <td>Gene</td>\n",
       "      <td>P00251542</td>\n",
       "      <td>M</td>\n",
       "      <td>18-25</td>\n",
       "      <td>22</td>\n",
       "      <td>1</td>\n",
       "      <td>Delhi</td>\n",
       "      <td>Central</td>\n",
       "      <td>Banking</td>\n",
       "      <td>Clothing &amp; Apparel</td>\n",
       "      <td>3</td>\n",
       "      <td>8785.0</td>\n",
       "      <td>NaN</td>\n",
       "      <td>NaN</td>\n",
       "    </tr>\n",
       "    <tr>\n",
       "      <th>4598</th>\n",
       "      <td>1000214</td>\n",
       "      <td>Kargatis</td>\n",
       "      <td>P00156742</td>\n",
       "      <td>F</td>\n",
       "      <td>18-25</td>\n",
       "      <td>25</td>\n",
       "      <td>0</td>\n",
       "      <td>Jharkhand</td>\n",
       "      <td>Eastern</td>\n",
       "      <td>Banking</td>\n",
       "      <td>Electronics &amp; Gadgets</td>\n",
       "      <td>1</td>\n",
       "      <td>9727.0</td>\n",
       "      <td>NaN</td>\n",
       "      <td>NaN</td>\n",
       "    </tr>\n",
       "    <tr>\n",
       "      <th>6960</th>\n",
       "      <td>1004210</td>\n",
       "      <td>Donatelli</td>\n",
       "      <td>P00161542</td>\n",
       "      <td>M</td>\n",
       "      <td>26-35</td>\n",
       "      <td>27</td>\n",
       "      <td>1</td>\n",
       "      <td>Madhya Pradesh</td>\n",
       "      <td>Central</td>\n",
       "      <td>Govt</td>\n",
       "      <td>Clothing &amp; Apparel</td>\n",
       "      <td>1</td>\n",
       "      <td>7112.0</td>\n",
       "      <td>NaN</td>\n",
       "      <td>NaN</td>\n",
       "    </tr>\n",
       "    <tr>\n",
       "      <th>8265</th>\n",
       "      <td>1005553</td>\n",
       "      <td>Butterfield</td>\n",
       "      <td>P00015942</td>\n",
       "      <td>F</td>\n",
       "      <td>36-45</td>\n",
       "      <td>42</td>\n",
       "      <td>1</td>\n",
       "      <td>Madhya Pradesh</td>\n",
       "      <td>Central</td>\n",
       "      <td>Healthcare</td>\n",
       "      <td>Electronics &amp; Gadgets</td>\n",
       "      <td>3</td>\n",
       "      <td>5875.0</td>\n",
       "      <td>NaN</td>\n",
       "      <td>NaN</td>\n",
       "    </tr>\n",
       "    <tr>\n",
       "      <th>9251</th>\n",
       "      <td>1004643</td>\n",
       "      <td>Christine</td>\n",
       "      <td>P0099242</td>\n",
       "      <td>F</td>\n",
       "      <td>26-35</td>\n",
       "      <td>30</td>\n",
       "      <td>1</td>\n",
       "      <td>Madhya Pradesh</td>\n",
       "      <td>Central</td>\n",
       "      <td>Food Processing</td>\n",
       "      <td>Beauty</td>\n",
       "      <td>2</td>\n",
       "      <td>4438.0</td>\n",
       "      <td>NaN</td>\n",
       "      <td>NaN</td>\n",
       "    </tr>\n",
       "    <tr>\n",
       "      <th>5594</th>\n",
       "      <td>1005107</td>\n",
       "      <td>Pratyusmita</td>\n",
       "      <td>P00003942</td>\n",
       "      <td>M</td>\n",
       "      <td>46-50</td>\n",
       "      <td>49</td>\n",
       "      <td>1</td>\n",
       "      <td>Uttar Pradesh</td>\n",
       "      <td>Central</td>\n",
       "      <td>Aviation</td>\n",
       "      <td>Sports Products</td>\n",
       "      <td>3</td>\n",
       "      <td>8120.0</td>\n",
       "      <td>NaN</td>\n",
       "      <td>NaN</td>\n",
       "    </tr>\n",
       "  </tbody>\n",
       "</table>\n",
       "</div>"
      ],
      "text/plain": [
       "      User_ID    Cust_name Product_ID Gender Age Group  Age  Marital_Status  \\\n",
       "3332  1004470       Sylvia  P00245642      F     36-45   38               0   \n",
       "8707  1003282       Ordway  P00090942      F     46-50   49               1   \n",
       "1696  1003509    Garverick  P00017042      F     18-25   23               0   \n",
       "9294  1000780        Ishit  P00208742      F     26-35   29               0   \n",
       "4919  1000092         Gene  P00251542      M     18-25   22               1   \n",
       "4598  1000214     Kargatis  P00156742      F     18-25   25               0   \n",
       "6960  1004210    Donatelli  P00161542      M     26-35   27               1   \n",
       "8265  1005553  Butterfield  P00015942      F     36-45   42               1   \n",
       "9251  1004643    Christine   P0099242      F     26-35   30               1   \n",
       "5594  1005107  Pratyusmita  P00003942      M     46-50   49               1   \n",
       "\n",
       "               State      Zone       Occupation       Product_Category  \\\n",
       "3332          Kerala  Southern           Lawyer                   Food   \n",
       "8707   Uttar Pradesh   Central          Banking     Clothing & Apparel   \n",
       "1696           Delhi   Central          Textile                   Food   \n",
       "9294   Uttar Pradesh   Central       Healthcare                   Food   \n",
       "4919           Delhi   Central          Banking     Clothing & Apparel   \n",
       "4598       Jharkhand   Eastern          Banking  Electronics & Gadgets   \n",
       "6960  Madhya Pradesh   Central             Govt     Clothing & Apparel   \n",
       "8265  Madhya Pradesh   Central       Healthcare  Electronics & Gadgets   \n",
       "9251  Madhya Pradesh   Central  Food Processing                 Beauty   \n",
       "5594   Uttar Pradesh   Central         Aviation        Sports Products   \n",
       "\n",
       "      Orders   Amount  Status  unnamed1  \n",
       "3332       3  11881.0     NaN       NaN  \n",
       "8707       1   5315.0     NaN       NaN  \n",
       "1696       3  15860.0     NaN       NaN  \n",
       "9294       2   4278.0     NaN       NaN  \n",
       "4919       3   8785.0     NaN       NaN  \n",
       "4598       1   9727.0     NaN       NaN  \n",
       "6960       1   7112.0     NaN       NaN  \n",
       "8265       3   5875.0     NaN       NaN  \n",
       "9251       2   4438.0     NaN       NaN  \n",
       "5594       3   8120.0     NaN       NaN  "
      ]
     },
     "execution_count": 2,
     "metadata": {},
     "output_type": "execute_result"
    }
   ],
   "source": [
    "df = pd.read_csv('diwali_sales_data.csv', encoding = 'unicode_escape')\n",
    "df.sample(10)"
   ]
  },
  {
   "cell_type": "code",
   "execution_count": 3,
   "id": "60f6bdfc",
   "metadata": {},
   "outputs": [
    {
     "name": "stdout",
     "output_type": "stream",
     "text": [
      "<class 'pandas.core.frame.DataFrame'>\n",
      "RangeIndex: 11251 entries, 0 to 11250\n",
      "Data columns (total 15 columns):\n",
      " #   Column            Non-Null Count  Dtype  \n",
      "---  ------            --------------  -----  \n",
      " 0   User_ID           11251 non-null  int64  \n",
      " 1   Cust_name         11251 non-null  object \n",
      " 2   Product_ID        11251 non-null  object \n",
      " 3   Gender            11251 non-null  object \n",
      " 4   Age Group         11251 non-null  object \n",
      " 5   Age               11251 non-null  int64  \n",
      " 6   Marital_Status    11251 non-null  int64  \n",
      " 7   State             11251 non-null  object \n",
      " 8   Zone              11251 non-null  object \n",
      " 9   Occupation        11251 non-null  object \n",
      " 10  Product_Category  11251 non-null  object \n",
      " 11  Orders            11251 non-null  int64  \n",
      " 12  Amount            11239 non-null  float64\n",
      " 13  Status            0 non-null      float64\n",
      " 14  unnamed1          0 non-null      float64\n",
      "dtypes: float64(3), int64(4), object(8)\n",
      "memory usage: 1.3+ MB\n"
     ]
    }
   ],
   "source": [
    "# Data Info\n",
    "\n",
    "df.info()"
   ]
  },
  {
   "cell_type": "code",
   "execution_count": 4,
   "id": "93bd4659",
   "metadata": {},
   "outputs": [],
   "source": [
    "# Removing 'Status' and 'unnamed1' as they don't have any entry\n",
    "\n",
    "df.drop(['Status','unnamed1'],axis=1,inplace=True)"
   ]
  },
  {
   "cell_type": "code",
   "execution_count": 5,
   "id": "04ee06fb",
   "metadata": {},
   "outputs": [
    {
     "data": {
      "text/plain": [
       "User_ID              0\n",
       "Cust_name            0\n",
       "Product_ID           0\n",
       "Gender               0\n",
       "Age Group            0\n",
       "Age                  0\n",
       "Marital_Status       0\n",
       "State                0\n",
       "Zone                 0\n",
       "Occupation           0\n",
       "Product_Category     0\n",
       "Orders               0\n",
       "Amount              12\n",
       "dtype: int64"
      ]
     },
     "execution_count": 5,
     "metadata": {},
     "output_type": "execute_result"
    }
   ],
   "source": [
    "# Checking null values \n",
    "\n",
    "df.isnull().sum()"
   ]
  },
  {
   "cell_type": "code",
   "execution_count": 6,
   "id": "22b4c174",
   "metadata": {},
   "outputs": [],
   "source": [
    "# Removing null values and changing data type of 'Amount' from float to int\n",
    "\n",
    "df.dropna(inplace=True)\n",
    "df['Amount'] = df['Amount'].astype('int')"
   ]
  },
  {
   "cell_type": "code",
   "execution_count": 7,
   "id": "61b40eb1",
   "metadata": {},
   "outputs": [
    {
     "data": {
      "text/html": [
       "<div>\n",
       "<style scoped>\n",
       "    .dataframe tbody tr th:only-of-type {\n",
       "        vertical-align: middle;\n",
       "    }\n",
       "\n",
       "    .dataframe tbody tr th {\n",
       "        vertical-align: top;\n",
       "    }\n",
       "\n",
       "    .dataframe thead th {\n",
       "        text-align: right;\n",
       "    }\n",
       "</style>\n",
       "<table border=\"1\" class=\"dataframe\">\n",
       "  <thead>\n",
       "    <tr style=\"text-align: right;\">\n",
       "      <th></th>\n",
       "      <th>User_ID</th>\n",
       "      <th>Age</th>\n",
       "      <th>Marital_Status</th>\n",
       "      <th>Orders</th>\n",
       "      <th>Amount</th>\n",
       "    </tr>\n",
       "  </thead>\n",
       "  <tbody>\n",
       "    <tr>\n",
       "      <th>count</th>\n",
       "      <td>1.123900e+04</td>\n",
       "      <td>11239.000000</td>\n",
       "      <td>11239.000000</td>\n",
       "      <td>11239.000000</td>\n",
       "      <td>11239.000000</td>\n",
       "    </tr>\n",
       "    <tr>\n",
       "      <th>mean</th>\n",
       "      <td>1.003004e+06</td>\n",
       "      <td>35.410357</td>\n",
       "      <td>0.420055</td>\n",
       "      <td>2.489634</td>\n",
       "      <td>9453.610553</td>\n",
       "    </tr>\n",
       "    <tr>\n",
       "      <th>std</th>\n",
       "      <td>1.716039e+03</td>\n",
       "      <td>12.753866</td>\n",
       "      <td>0.493589</td>\n",
       "      <td>1.114967</td>\n",
       "      <td>5222.355168</td>\n",
       "    </tr>\n",
       "    <tr>\n",
       "      <th>min</th>\n",
       "      <td>1.000001e+06</td>\n",
       "      <td>12.000000</td>\n",
       "      <td>0.000000</td>\n",
       "      <td>1.000000</td>\n",
       "      <td>188.000000</td>\n",
       "    </tr>\n",
       "    <tr>\n",
       "      <th>25%</th>\n",
       "      <td>1.001492e+06</td>\n",
       "      <td>27.000000</td>\n",
       "      <td>0.000000</td>\n",
       "      <td>2.000000</td>\n",
       "      <td>5443.000000</td>\n",
       "    </tr>\n",
       "    <tr>\n",
       "      <th>50%</th>\n",
       "      <td>1.003064e+06</td>\n",
       "      <td>33.000000</td>\n",
       "      <td>0.000000</td>\n",
       "      <td>2.000000</td>\n",
       "      <td>8109.000000</td>\n",
       "    </tr>\n",
       "    <tr>\n",
       "      <th>75%</th>\n",
       "      <td>1.004426e+06</td>\n",
       "      <td>43.000000</td>\n",
       "      <td>1.000000</td>\n",
       "      <td>3.000000</td>\n",
       "      <td>12675.000000</td>\n",
       "    </tr>\n",
       "    <tr>\n",
       "      <th>max</th>\n",
       "      <td>1.006040e+06</td>\n",
       "      <td>92.000000</td>\n",
       "      <td>1.000000</td>\n",
       "      <td>4.000000</td>\n",
       "      <td>23952.000000</td>\n",
       "    </tr>\n",
       "  </tbody>\n",
       "</table>\n",
       "</div>"
      ],
      "text/plain": [
       "            User_ID           Age  Marital_Status        Orders        Amount\n",
       "count  1.123900e+04  11239.000000    11239.000000  11239.000000  11239.000000\n",
       "mean   1.003004e+06     35.410357        0.420055      2.489634   9453.610553\n",
       "std    1.716039e+03     12.753866        0.493589      1.114967   5222.355168\n",
       "min    1.000001e+06     12.000000        0.000000      1.000000    188.000000\n",
       "25%    1.001492e+06     27.000000        0.000000      2.000000   5443.000000\n",
       "50%    1.003064e+06     33.000000        0.000000      2.000000   8109.000000\n",
       "75%    1.004426e+06     43.000000        1.000000      3.000000  12675.000000\n",
       "max    1.006040e+06     92.000000        1.000000      4.000000  23952.000000"
      ]
     },
     "execution_count": 7,
     "metadata": {},
     "output_type": "execute_result"
    }
   ],
   "source": [
    "# Summary \n",
    "\n",
    "df.describe()"
   ]
  },
  {
   "cell_type": "code",
   "execution_count": 8,
   "id": "5f190d43",
   "metadata": {},
   "outputs": [
    {
     "data": {
      "text/html": [
       "<div>\n",
       "<style scoped>\n",
       "    .dataframe tbody tr th:only-of-type {\n",
       "        vertical-align: middle;\n",
       "    }\n",
       "\n",
       "    .dataframe tbody tr th {\n",
       "        vertical-align: top;\n",
       "    }\n",
       "\n",
       "    .dataframe thead th {\n",
       "        text-align: right;\n",
       "    }\n",
       "</style>\n",
       "<table border=\"1\" class=\"dataframe\">\n",
       "  <thead>\n",
       "    <tr style=\"text-align: right;\">\n",
       "      <th></th>\n",
       "      <th>Age</th>\n",
       "      <th>Orders</th>\n",
       "      <th>Amount</th>\n",
       "    </tr>\n",
       "  </thead>\n",
       "  <tbody>\n",
       "    <tr>\n",
       "      <th>count</th>\n",
       "      <td>11239.000000</td>\n",
       "      <td>11239.000000</td>\n",
       "      <td>11239.000000</td>\n",
       "    </tr>\n",
       "    <tr>\n",
       "      <th>mean</th>\n",
       "      <td>35.410357</td>\n",
       "      <td>2.489634</td>\n",
       "      <td>9453.610553</td>\n",
       "    </tr>\n",
       "    <tr>\n",
       "      <th>std</th>\n",
       "      <td>12.753866</td>\n",
       "      <td>1.114967</td>\n",
       "      <td>5222.355168</td>\n",
       "    </tr>\n",
       "    <tr>\n",
       "      <th>min</th>\n",
       "      <td>12.000000</td>\n",
       "      <td>1.000000</td>\n",
       "      <td>188.000000</td>\n",
       "    </tr>\n",
       "    <tr>\n",
       "      <th>25%</th>\n",
       "      <td>27.000000</td>\n",
       "      <td>2.000000</td>\n",
       "      <td>5443.000000</td>\n",
       "    </tr>\n",
       "    <tr>\n",
       "      <th>50%</th>\n",
       "      <td>33.000000</td>\n",
       "      <td>2.000000</td>\n",
       "      <td>8109.000000</td>\n",
       "    </tr>\n",
       "    <tr>\n",
       "      <th>75%</th>\n",
       "      <td>43.000000</td>\n",
       "      <td>3.000000</td>\n",
       "      <td>12675.000000</td>\n",
       "    </tr>\n",
       "    <tr>\n",
       "      <th>max</th>\n",
       "      <td>92.000000</td>\n",
       "      <td>4.000000</td>\n",
       "      <td>23952.000000</td>\n",
       "    </tr>\n",
       "  </tbody>\n",
       "</table>\n",
       "</div>"
      ],
      "text/plain": [
       "                Age        Orders        Amount\n",
       "count  11239.000000  11239.000000  11239.000000\n",
       "mean      35.410357      2.489634   9453.610553\n",
       "std       12.753866      1.114967   5222.355168\n",
       "min       12.000000      1.000000    188.000000\n",
       "25%       27.000000      2.000000   5443.000000\n",
       "50%       33.000000      2.000000   8109.000000\n",
       "75%       43.000000      3.000000  12675.000000\n",
       "max       92.000000      4.000000  23952.000000"
      ]
     },
     "execution_count": 8,
     "metadata": {},
     "output_type": "execute_result"
    }
   ],
   "source": [
    "# Summary of only 'Age','Orders', and 'Amount'\n",
    "\n",
    "df[['Age','Orders','Amount']].describe()"
   ]
  },
  {
   "cell_type": "markdown",
   "id": "42612dce",
   "metadata": {},
   "source": [
    "# EDA"
   ]
  },
  {
   "cell_type": "markdown",
   "id": "73670d74",
   "metadata": {},
   "source": [
    "## Gender"
   ]
  },
  {
   "cell_type": "code",
   "execution_count": 9,
   "id": "a4ef803f",
   "metadata": {},
   "outputs": [
    {
     "data": {
      "image/png": "[encoded data removed]",
      "text/plain": [
       "<Figure size 432x288 with 1 Axes>"
      ]
     },
     "metadata": {
      "needs_background": "light"
     },
     "output_type": "display_data"
    }
   ],
   "source": [
    "# Count of buyers based on Gender\n",
    "\n",
    "ax = sns.countplot(data=df,x='Gender')\n",
    "\n",
    "for bars in ax.containers:\n",
    "    ax.bar_label(bars)"
   ]
  },
  {
   "cell_type": "code",
   "execution_count": 10,
   "id": "8b137ef0",
   "metadata": {},
   "outputs": [
    {
     "data": {
      "image/png": "[encoded data removed]",
      "text/plain": [
       "<Figure size 432x288 with 1 Axes>"
      ]
     },
     "metadata": {
      "needs_background": "light"
     },
     "output_type": "display_data"
    }
   ],
   "source": [
    "# Buying power based on Gender\n",
    "\n",
    "sales_gender = df.groupby(['Gender'],as_index = False)['Amount'].sum().sort_values(by='Amount',ascending=False)\n",
    "ay = sns.barplot(x='Gender',y='Amount',data=sales_gender)"
   ]
  },
  {
   "cell_type": "markdown",
   "id": "07152c3e",
   "metadata": {},
   "source": [
    "### From above observation, we can say that most of the buyers are female and even the purchasing power of females are higher than males."
   ]
  },
  {
   "cell_type": "markdown",
   "id": "ebc15692",
   "metadata": {},
   "source": [
    "# Age"
   ]
  },
  {
   "cell_type": "code",
   "execution_count": 11,
   "id": "81c2d131",
   "metadata": {},
   "outputs": [
    {
     "data": {
      "image/png": "[encoded data removed]",
      "text/plain": [
       "<Figure size 432x288 with 1 Axes>"
      ]
     },
     "metadata": {
      "needs_background": "light"
     },
     "output_type": "display_data"
    }
   ],
   "source": [
    "# Count of buyers based on Age Group and Gender\n",
    "\n",
    "ay = sns.countplot(data=df, x='Age Group', order=df['Age Group'].value_counts().index,hue='Gender')\n",
    "for bars in ay.containers:\n",
    "    ay.bar_label(bars)"
   ]
  },
  {
   "cell_type": "code",
   "execution_count": 12,
   "id": "ff2e0c3b",
   "metadata": {},
   "outputs": [
    {
     "data": {
      "image/png": "[encoded data removed]",
      "text/plain": [
       "<Figure size 432x288 with 1 Axes>"
      ]
     },
     "metadata": {
      "needs_background": "light"
     },
     "output_type": "display_data"
    }
   ],
   "source": [
    "# Purchasing power based on Age Group\n",
    "az = df.groupby(['Age Group'],as_index=False)['Amount'].sum().sort_values(by='Amount',ascending=False)\n",
    "x =sns.barplot(x='Age Group',y='Amount',data = az)"
   ]
  },
  {
   "cell_type": "markdown",
   "id": "3647e453",
   "metadata": {},
   "source": [
    "### From the above observation, we can say that the most number of buyers are from age group 26-35 with more number of females in that, followed by 36-45. \n",
    "### The purchasing power of age group 26-35 is also higher than all the other age groups ."
   ]
  },
  {
   "cell_type": "markdown",
   "id": "cf712e2f",
   "metadata": {},
   "source": [
    "# State"
   ]
  },
  {
   "cell_type": "code",
   "execution_count": 23,
   "id": "447a5f86",
   "metadata": {},
   "outputs": [
    {
     "data": {
      "image/png": "[encoded data removed]",
      "text/plain": [
       "<Figure size 1080x360 with 1 Axes>"
      ]
     },
     "metadata": {},
     "output_type": "display_data"
    }
   ],
   "source": [
    "# Total number of orders frome top 10 state\n",
    "a_state = df.groupby(['State'],as_index=False)['Orders'].sum().sort_values(by='Orders',ascending=False).head(10)\n",
    "st = sns.barplot(x='State',y='Orders',data=a_state)\n",
    "sns.set(rc = {'figure.figsize':(25,5)})"
   ]
  },
  {
   "cell_type": "code",
   "execution_count": 14,
   "id": "336949c0",
   "metadata": {},
   "outputs": [
    {
     "data": {
      "image/png": "[encoded data removed]",
      "text/plain": [
       "<Figure size 1800x360 with 1 Axes>"
      ]
     },
     "metadata": {},
     "output_type": "display_data"
    }
   ],
   "source": [
    "# Total amount from top 10 states\n",
    "a_state = df.groupby(['State'],as_index=False)['Amount'].sum().sort_values(by='Amount',ascending=False).head(10)\n",
    "st = sns.barplot(x='State',y='Amount',data=a_state)\n",
    "sns.set(rc = {'figure.figsize':(15,5)})"
   ]
  },
  {
   "cell_type": "markdown",
   "id": "67ddb8cd",
   "metadata": {},
   "source": [
    "### We can observe that most of the orders and amount spent are from Uttar Pradesh, Maharashtra and Karnataka.\n",
    "### One more insight we can see here is that the number of orders of Haryana is less than Kerala but the amount spent by Haryana is more than Kerala"
   ]
  },
  {
   "cell_type": "markdown",
   "id": "4bf5258e",
   "metadata": {},
   "source": [
    "# Marital Status "
   ]
  },
  {
   "cell_type": "code",
   "execution_count": 15,
   "id": "898a9b05",
   "metadata": {},
   "outputs": [
    {
     "data": {
      "image/png": "[encoded data removed]",
      "text/plain": [
       "<Figure size 1080x360 with 1 Axes>"
      ]
     },
     "metadata": {},
     "output_type": "display_data"
    }
   ],
   "source": [
    "# Purchasing power based on the marital status and gender\n",
    "# 0 is for married and 1 is for not married\n",
    "\n",
    "a_m_status = df.groupby(['Marital_Status','Gender'],as_index=False)['Amount'].sum().sort_values(by='Amount',ascending=False)\n",
    "sns.barplot(x='Marital_Status',y='Amount',data=a_m_status,hue='Gender')\n",
    "sns.set(rc = {'figure.figsize':(10,5)})"
   ]
  },
  {
   "cell_type": "markdown",
   "id": "a9d346ed",
   "metadata": {},
   "source": [
    "### From above graph we can observe that the purchasing power of the married (women) people are more."
   ]
  },
  {
   "cell_type": "markdown",
   "id": "d9176161",
   "metadata": {},
   "source": [
    "# Occupation"
   ]
  },
  {
   "cell_type": "code",
   "execution_count": 22,
   "id": "b2daa47c",
   "metadata": {},
   "outputs": [
    {
     "data": {
      "image/png": "[encoded data removed]",
      "text/plain": [
       "<Figure size 1440x360 with 1 Axes>"
      ]
     },
     "metadata": {},
     "output_type": "display_data"
    }
   ],
   "source": [
    "# Purchasing power based on the occupation of customers\n",
    "state_occupation = df.groupby(['Occupation'],as_index=False)['Amount'].sum().sort_values(by='Amount',ascending=False)\n",
    "sns.barplot(x='Occupation',y='Amount',data=state_occupation)\n",
    "sns.set(rc = {'figure.figsize':(15,5)})"
   ]
  },
  {
   "cell_type": "markdown",
   "id": "d5771dda",
   "metadata": {},
   "source": [
    "### We can observe from above graph that most of the buyers are working in IT Sector, Healthcare, Aviation, Banking and Govt."
   ]
  },
  {
   "cell_type": "markdown",
   "id": "40cc585c",
   "metadata": {},
   "source": [
    "# Product Category"
   ]
  },
  {
   "cell_type": "code",
   "execution_count": 17,
   "id": "f643181f",
   "metadata": {},
   "outputs": [
    {
     "data": {
      "image/png": "[encoded data removed]",
      "text/plain": [
       "<Figure size 1080x360 with 1 Axes>"
      ]
     },
     "metadata": {},
     "output_type": "display_data"
    }
   ],
   "source": [
    "# Number of orders based on Top 10 Product category\n",
    "sns.set(rc = {'figure.figsize':(15,5)})\n",
    "pc = sns.countplot(x='Product_Category',data=df,order = df['Product_Category'].value_counts().iloc[:10].index)\n",
    "for bars in pc.containers:\n",
    "    pc.bar_label(bars)"
   ]
  },
  {
   "cell_type": "code",
   "execution_count": 21,
   "id": "f45f6b14",
   "metadata": {},
   "outputs": [
    {
     "data": {
      "text/plain": [
       "<AxesSubplot:xlabel='Product_Category', ylabel='Amount'>"
      ]
     },
     "execution_count": 21,
     "metadata": {},
     "output_type": "execute_result"
    },
    {
     "data": {
      "image/png": "[encoded data removed]",
      "text/plain": [
       "<Figure size 1440x360 with 1 Axes>"
      ]
     },
     "metadata": {},
     "output_type": "display_data"
    }
   ],
   "source": [
    "# Purchasing power based on the Top 10 Product category\n",
    "sns.set(rc = {'figure.figsize':(20,5)})\n",
    "sales_pdt_category = df.groupby(['Product_Category'],as_index=False)['Amount'].sum().sort_values(by='Amount',ascending=False).head(10)\n",
    "sns.barplot(x='Product_Category',y='Amount',data=sales_pdt_category)"
   ]
  },
  {
   "cell_type": "markdown",
   "id": "65f8a0ef",
   "metadata": {},
   "source": [
    "### We can observe that most of the sold products are from Food, Clothing, Electronics and Footwear category.\n",
    "\n",
    "### Despite the lower number of orders, the food category generates higher revenue than Clothing category, suggesting that the food items might be priced higher or have better profit margins, resulting in increased revenue."
   ]
  },
  {
   "cell_type": "markdown",
   "id": "fe3a2684",
   "metadata": {},
   "source": [
    "## Summary :\n",
    "### Demographics and Market Presence:\n",
    "\n",
    "##### Female buyers dominate the market, indicating their significant presence and purchasing power.\n",
    "##### The age groups of 26-35 and 36-45 contribute the most to the buyer base, with the 26-35 age group displaying higher purchasing power.\n",
    "\n",
    "### Regional and Consumer Behavior:\n",
    "\n",
    "##### Uttar Pradesh, Maharashtra, and Karnataka show the highest sales volume and spending.\n",
    "##### Married individuals, particularly women, exhibit higher purchasing power.\n",
    "##### Buyers in the IT sector, healthcare, aviation, banking, and government sectors are prominent segments.\n",
    "##### Food, clothing, electronics, and footwear are the top-selling product categories.\n",
    "##### Despite fewer orders, the food category generates higher revenue, suggesting potential higher prices or better profit margins in that industry."
   ]
  }
 ],
 "metadata": {
  "kernelspec": {
   "display_name": "Python 3 (ipykernel)",
   "language": "python",
   "name": "python3"
  },
  "language_info": {
   "codemirror_mode": {
    "name": "ipython",
    "version": 3
   },
   "file_extension": ".py",
   "mimetype": "text/x-python",
   "name": "python",
   "nbconvert_exporter": "python",
   "pygments_lexer": "ipython3",
   "version": "3.10.1"
  }
 },
 "nbformat": 4,
 "nbformat_minor": 5
}
